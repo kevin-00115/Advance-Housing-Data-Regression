{
 "cells": [
  {
   "cell_type": "markdown",
   "metadata": {},
   "source": [
    "**Authenticate to Kaggle**"
   ]
  },
  {
   "cell_type": "code",
   "execution_count": 13,
   "metadata": {},
   "outputs": [],
   "source": [
    "mkdir %USERPROFILE%\\.kaggle\n"
   ]
  },
  {
   "cell_type": "code",
   "execution_count": null,
   "metadata": {},
   "outputs": [],
   "source": [
    "import shutil\n",
    "import os\n",
    "\n",
    "# Define source and destination paths\n",
    "source = 'kaggle.json'\n",
    "destination = os.path.join(os.path.expanduser(\"~\"), \".kaggle\", \"kaggle.json\")\n",
    "\n",
    "# Copy the file\n",
    "shutil.copy2(source, destination)\n"
   ]
  },
  {
   "cell_type": "code",
   "execution_count": 18,
   "metadata": {},
   "outputs": [],
   "source": [
    "import os\n",
    "\n",
    "kaggle_file = os.path.join(os.path.expanduser(\"~\"), \".kaggle\", \"kaggle.json\")\n",
    "\n",
    "# Make the file read/write by the owner, and remove all other permissions.\n",
    "os.chmod(kaggle_file, 0o600)\n"
   ]
  },
  {
   "cell_type": "code",
   "execution_count": null,
   "metadata": {},
   "outputs": [],
   "source": [
    "!kaggle competitions download -c house-prices-advanced-regression-techniques"
   ]
  },
  {
   "cell_type": "code",
   "execution_count": 29,
   "metadata": {},
   "outputs": [],
   "source": [
    "import zipfile\n",
    "zip_path = 'house-prices-advanced-regression-techniques.zip'\n",
    "extract_folder = '.'  # Current directory\n",
    "\n",
    "with zipfile.ZipFile(zip_path, 'r') as zip_ref:\n",
    "    zip_ref.extractall(extract_folder)"
   ]
  },
  {
   "cell_type": "markdown",
   "metadata": {},
   "source": [
    "**Data Preprocessing**"
   ]
  },
  {
   "cell_type": "code",
   "execution_count": 1,
   "metadata": {},
   "outputs": [],
   "source": [
    "import pandas as pd\n",
    "import numpy as np\n"
   ]
  },
  {
   "cell_type": "code",
   "execution_count": 2,
   "metadata": {},
   "outputs": [],
   "source": [
    "df = pd.read_csv('train.csv')"
   ]
  },
  {
   "cell_type": "code",
   "execution_count": 3,
   "metadata": {},
   "outputs": [
    {
     "data": {
      "text/html": [
       "<div>\n",
       "<style scoped>\n",
       "    .dataframe tbody tr th:only-of-type {\n",
       "        vertical-align: middle;\n",
       "    }\n",
       "\n",
       "    .dataframe tbody tr th {\n",
       "        vertical-align: top;\n",
       "    }\n",
       "\n",
       "    .dataframe thead th {\n",
       "        text-align: right;\n",
       "    }\n",
       "</style>\n",
       "<table border=\"1\" class=\"dataframe\">\n",
       "  <thead>\n",
       "    <tr style=\"text-align: right;\">\n",
       "      <th></th>\n",
       "      <th>Id</th>\n",
       "      <th>MSSubClass</th>\n",
       "      <th>MSZoning</th>\n",
       "      <th>LotFrontage</th>\n",
       "      <th>LotArea</th>\n",
       "      <th>Street</th>\n",
       "      <th>Alley</th>\n",
       "      <th>LotShape</th>\n",
       "      <th>LandContour</th>\n",
       "      <th>Utilities</th>\n",
       "      <th>...</th>\n",
       "      <th>PoolArea</th>\n",
       "      <th>PoolQC</th>\n",
       "      <th>Fence</th>\n",
       "      <th>MiscFeature</th>\n",
       "      <th>MiscVal</th>\n",
       "      <th>MoSold</th>\n",
       "      <th>YrSold</th>\n",
       "      <th>SaleType</th>\n",
       "      <th>SaleCondition</th>\n",
       "      <th>SalePrice</th>\n",
       "    </tr>\n",
       "  </thead>\n",
       "  <tbody>\n",
       "    <tr>\n",
       "      <th>0</th>\n",
       "      <td>1</td>\n",
       "      <td>60</td>\n",
       "      <td>RL</td>\n",
       "      <td>65.0</td>\n",
       "      <td>8450</td>\n",
       "      <td>Pave</td>\n",
       "      <td>NaN</td>\n",
       "      <td>Reg</td>\n",
       "      <td>Lvl</td>\n",
       "      <td>AllPub</td>\n",
       "      <td>...</td>\n",
       "      <td>0</td>\n",
       "      <td>NaN</td>\n",
       "      <td>NaN</td>\n",
       "      <td>NaN</td>\n",
       "      <td>0</td>\n",
       "      <td>2</td>\n",
       "      <td>2008</td>\n",
       "      <td>WD</td>\n",
       "      <td>Normal</td>\n",
       "      <td>208500</td>\n",
       "    </tr>\n",
       "    <tr>\n",
       "      <th>1</th>\n",
       "      <td>2</td>\n",
       "      <td>20</td>\n",
       "      <td>RL</td>\n",
       "      <td>80.0</td>\n",
       "      <td>9600</td>\n",
       "      <td>Pave</td>\n",
       "      <td>NaN</td>\n",
       "      <td>Reg</td>\n",
       "      <td>Lvl</td>\n",
       "      <td>AllPub</td>\n",
       "      <td>...</td>\n",
       "      <td>0</td>\n",
       "      <td>NaN</td>\n",
       "      <td>NaN</td>\n",
       "      <td>NaN</td>\n",
       "      <td>0</td>\n",
       "      <td>5</td>\n",
       "      <td>2007</td>\n",
       "      <td>WD</td>\n",
       "      <td>Normal</td>\n",
       "      <td>181500</td>\n",
       "    </tr>\n",
       "    <tr>\n",
       "      <th>2</th>\n",
       "      <td>3</td>\n",
       "      <td>60</td>\n",
       "      <td>RL</td>\n",
       "      <td>68.0</td>\n",
       "      <td>11250</td>\n",
       "      <td>Pave</td>\n",
       "      <td>NaN</td>\n",
       "      <td>IR1</td>\n",
       "      <td>Lvl</td>\n",
       "      <td>AllPub</td>\n",
       "      <td>...</td>\n",
       "      <td>0</td>\n",
       "      <td>NaN</td>\n",
       "      <td>NaN</td>\n",
       "      <td>NaN</td>\n",
       "      <td>0</td>\n",
       "      <td>9</td>\n",
       "      <td>2008</td>\n",
       "      <td>WD</td>\n",
       "      <td>Normal</td>\n",
       "      <td>223500</td>\n",
       "    </tr>\n",
       "    <tr>\n",
       "      <th>3</th>\n",
       "      <td>4</td>\n",
       "      <td>70</td>\n",
       "      <td>RL</td>\n",
       "      <td>60.0</td>\n",
       "      <td>9550</td>\n",
       "      <td>Pave</td>\n",
       "      <td>NaN</td>\n",
       "      <td>IR1</td>\n",
       "      <td>Lvl</td>\n",
       "      <td>AllPub</td>\n",
       "      <td>...</td>\n",
       "      <td>0</td>\n",
       "      <td>NaN</td>\n",
       "      <td>NaN</td>\n",
       "      <td>NaN</td>\n",
       "      <td>0</td>\n",
       "      <td>2</td>\n",
       "      <td>2006</td>\n",
       "      <td>WD</td>\n",
       "      <td>Abnorml</td>\n",
       "      <td>140000</td>\n",
       "    </tr>\n",
       "    <tr>\n",
       "      <th>4</th>\n",
       "      <td>5</td>\n",
       "      <td>60</td>\n",
       "      <td>RL</td>\n",
       "      <td>84.0</td>\n",
       "      <td>14260</td>\n",
       "      <td>Pave</td>\n",
       "      <td>NaN</td>\n",
       "      <td>IR1</td>\n",
       "      <td>Lvl</td>\n",
       "      <td>AllPub</td>\n",
       "      <td>...</td>\n",
       "      <td>0</td>\n",
       "      <td>NaN</td>\n",
       "      <td>NaN</td>\n",
       "      <td>NaN</td>\n",
       "      <td>0</td>\n",
       "      <td>12</td>\n",
       "      <td>2008</td>\n",
       "      <td>WD</td>\n",
       "      <td>Normal</td>\n",
       "      <td>250000</td>\n",
       "    </tr>\n",
       "  </tbody>\n",
       "</table>\n",
       "<p>5 rows × 81 columns</p>\n",
       "</div>"
      ],
      "text/plain": [
       "   Id  MSSubClass MSZoning  LotFrontage  LotArea Street Alley LotShape  \\\n",
       "0   1          60       RL         65.0     8450   Pave   NaN      Reg   \n",
       "1   2          20       RL         80.0     9600   Pave   NaN      Reg   \n",
       "2   3          60       RL         68.0    11250   Pave   NaN      IR1   \n",
       "3   4          70       RL         60.0     9550   Pave   NaN      IR1   \n",
       "4   5          60       RL         84.0    14260   Pave   NaN      IR1   \n",
       "\n",
       "  LandContour Utilities  ... PoolArea PoolQC Fence MiscFeature MiscVal MoSold  \\\n",
       "0         Lvl    AllPub  ...        0    NaN   NaN         NaN       0      2   \n",
       "1         Lvl    AllPub  ...        0    NaN   NaN         NaN       0      5   \n",
       "2         Lvl    AllPub  ...        0    NaN   NaN         NaN       0      9   \n",
       "3         Lvl    AllPub  ...        0    NaN   NaN         NaN       0      2   \n",
       "4         Lvl    AllPub  ...        0    NaN   NaN         NaN       0     12   \n",
       "\n",
       "  YrSold  SaleType  SaleCondition  SalePrice  \n",
       "0   2008        WD         Normal     208500  \n",
       "1   2007        WD         Normal     181500  \n",
       "2   2008        WD         Normal     223500  \n",
       "3   2006        WD        Abnorml     140000  \n",
       "4   2008        WD         Normal     250000  \n",
       "\n",
       "[5 rows x 81 columns]"
      ]
     },
     "execution_count": 3,
     "metadata": {},
     "output_type": "execute_result"
    }
   ],
   "source": [
    "df.head()"
   ]
  },
  {
   "cell_type": "code",
   "execution_count": 4,
   "metadata": {},
   "outputs": [
    {
     "name": "stdout",
     "output_type": "stream",
     "text": [
      "<class 'pandas.core.frame.DataFrame'>\n",
      "RangeIndex: 1460 entries, 0 to 1459\n",
      "Data columns (total 81 columns):\n",
      " #   Column         Non-Null Count  Dtype  \n",
      "---  ------         --------------  -----  \n",
      " 0   Id             1460 non-null   int64  \n",
      " 1   MSSubClass     1460 non-null   int64  \n",
      " 2   MSZoning       1460 non-null   object \n",
      " 3   LotFrontage    1201 non-null   float64\n",
      " 4   LotArea        1460 non-null   int64  \n",
      " 5   Street         1460 non-null   object \n",
      " 6   Alley          91 non-null     object \n",
      " 7   LotShape       1460 non-null   object \n",
      " 8   LandContour    1460 non-null   object \n",
      " 9   Utilities      1460 non-null   object \n",
      " 10  LotConfig      1460 non-null   object \n",
      " 11  LandSlope      1460 non-null   object \n",
      " 12  Neighborhood   1460 non-null   object \n",
      " 13  Condition1     1460 non-null   object \n",
      " 14  Condition2     1460 non-null   object \n",
      " 15  BldgType       1460 non-null   object \n",
      " 16  HouseStyle     1460 non-null   object \n",
      " 17  OverallQual    1460 non-null   int64  \n",
      " 18  OverallCond    1460 non-null   int64  \n",
      " 19  YearBuilt      1460 non-null   int64  \n",
      " 20  YearRemodAdd   1460 non-null   int64  \n",
      " 21  RoofStyle      1460 non-null   object \n",
      " 22  RoofMatl       1460 non-null   object \n",
      " 23  Exterior1st    1460 non-null   object \n",
      " 24  Exterior2nd    1460 non-null   object \n",
      " 25  MasVnrType     588 non-null    object \n",
      " 26  MasVnrArea     1452 non-null   float64\n",
      " 27  ExterQual      1460 non-null   object \n",
      " 28  ExterCond      1460 non-null   object \n",
      " 29  Foundation     1460 non-null   object \n",
      " 30  BsmtQual       1423 non-null   object \n",
      " 31  BsmtCond       1423 non-null   object \n",
      " 32  BsmtExposure   1422 non-null   object \n",
      " 33  BsmtFinType1   1423 non-null   object \n",
      " 34  BsmtFinSF1     1460 non-null   int64  \n",
      " 35  BsmtFinType2   1422 non-null   object \n",
      " 36  BsmtFinSF2     1460 non-null   int64  \n",
      " 37  BsmtUnfSF      1460 non-null   int64  \n",
      " 38  TotalBsmtSF    1460 non-null   int64  \n",
      " 39  Heating        1460 non-null   object \n",
      " 40  HeatingQC      1460 non-null   object \n",
      " 41  CentralAir     1460 non-null   object \n",
      " 42  Electrical     1459 non-null   object \n",
      " 43  1stFlrSF       1460 non-null   int64  \n",
      " 44  2ndFlrSF       1460 non-null   int64  \n",
      " 45  LowQualFinSF   1460 non-null   int64  \n",
      " 46  GrLivArea      1460 non-null   int64  \n",
      " 47  BsmtFullBath   1460 non-null   int64  \n",
      " 48  BsmtHalfBath   1460 non-null   int64  \n",
      " 49  FullBath       1460 non-null   int64  \n",
      " 50  HalfBath       1460 non-null   int64  \n",
      " 51  BedroomAbvGr   1460 non-null   int64  \n",
      " 52  KitchenAbvGr   1460 non-null   int64  \n",
      " 53  KitchenQual    1460 non-null   object \n",
      " 54  TotRmsAbvGrd   1460 non-null   int64  \n",
      " 55  Functional     1460 non-null   object \n",
      " 56  Fireplaces     1460 non-null   int64  \n",
      " 57  FireplaceQu    770 non-null    object \n",
      " 58  GarageType     1379 non-null   object \n",
      " 59  GarageYrBlt    1379 non-null   float64\n",
      " 60  GarageFinish   1379 non-null   object \n",
      " 61  GarageCars     1460 non-null   int64  \n",
      " 62  GarageArea     1460 non-null   int64  \n",
      " 63  GarageQual     1379 non-null   object \n",
      " 64  GarageCond     1379 non-null   object \n",
      " 65  PavedDrive     1460 non-null   object \n",
      " 66  WoodDeckSF     1460 non-null   int64  \n",
      " 67  OpenPorchSF    1460 non-null   int64  \n",
      " 68  EnclosedPorch  1460 non-null   int64  \n",
      " 69  3SsnPorch      1460 non-null   int64  \n",
      " 70  ScreenPorch    1460 non-null   int64  \n",
      " 71  PoolArea       1460 non-null   int64  \n",
      " 72  PoolQC         7 non-null      object \n",
      " 73  Fence          281 non-null    object \n",
      " 74  MiscFeature    54 non-null     object \n",
      " 75  MiscVal        1460 non-null   int64  \n",
      " 76  MoSold         1460 non-null   int64  \n",
      " 77  YrSold         1460 non-null   int64  \n",
      " 78  SaleType       1460 non-null   object \n",
      " 79  SaleCondition  1460 non-null   object \n",
      " 80  SalePrice      1460 non-null   int64  \n",
      "dtypes: float64(3), int64(35), object(43)\n",
      "memory usage: 924.0+ KB\n"
     ]
    }
   ],
   "source": [
    "df.info()"
   ]
  },
  {
   "cell_type": "code",
   "execution_count": 5,
   "metadata": {},
   "outputs": [
    {
     "data": {
      "text/plain": [
       "Electrical         1\n",
       "MasVnrArea         8\n",
       "BsmtQual          37\n",
       "BsmtCond          37\n",
       "BsmtFinType1      37\n",
       "BsmtExposure      38\n",
       "BsmtFinType2      38\n",
       "GarageCond        81\n",
       "GarageQual        81\n",
       "GarageFinish      81\n",
       "GarageYrBlt       81\n",
       "GarageType        81\n",
       "LotFrontage      259\n",
       "FireplaceQu      690\n",
       "MasVnrType       872\n",
       "Fence           1179\n",
       "Alley           1369\n",
       "MiscFeature     1406\n",
       "PoolQC          1453\n",
       "dtype: int64"
      ]
     },
     "execution_count": 5,
     "metadata": {},
     "output_type": "execute_result"
    }
   ],
   "source": [
    "missing_values = df.isnull().sum()\n",
    "missing_data = missing_values[missing_values > 0].sort_values()\n",
    "missing_data"
   ]
  },
  {
   "cell_type": "code",
   "execution_count": 67,
   "metadata": {},
   "outputs": [
    {
     "data": {
      "text/plain": [
       "Id                 0\n",
       "MSSubClass         0\n",
       "MSZoning           0\n",
       "LotFrontage      259\n",
       "LotArea            0\n",
       "                ... \n",
       "MoSold             0\n",
       "YrSold             0\n",
       "SaleType           0\n",
       "SaleCondition      0\n",
       "SalePrice          0\n",
       "Length: 81, dtype: int64"
      ]
     },
     "execution_count": 67,
     "metadata": {},
     "output_type": "execute_result"
    }
   ],
   "source": [
    "missing_values"
   ]
  },
  {
   "cell_type": "code",
   "execution_count": 39,
   "metadata": {},
   "outputs": [
    {
     "data": {
      "text/plain": [
       "Index(['Id', 'MSSubClass', 'MSZoning', 'LotFrontage', 'LotArea', 'Street',\n",
       "       'Alley', 'LotShape', 'LandContour', 'Utilities', 'LotConfig',\n",
       "       'LandSlope', 'Neighborhood', 'Condition1', 'Condition2', 'BldgType',\n",
       "       'HouseStyle', 'OverallQual', 'OverallCond', 'YearBuilt', 'YearRemodAdd',\n",
       "       'RoofStyle', 'RoofMatl', 'Exterior1st', 'Exterior2nd', 'MasVnrType',\n",
       "       'MasVnrArea', 'ExterQual', 'ExterCond', 'Foundation', 'BsmtQual',\n",
       "       'BsmtCond', 'BsmtExposure', 'BsmtFinType1', 'BsmtFinSF1',\n",
       "       'BsmtFinType2', 'BsmtFinSF2', 'BsmtUnfSF', 'TotalBsmtSF', 'Heating',\n",
       "       'HeatingQC', 'CentralAir', 'Electrical', '1stFlrSF', '2ndFlrSF',\n",
       "       'LowQualFinSF', 'GrLivArea', 'BsmtFullBath', 'BsmtHalfBath', 'FullBath',\n",
       "       'HalfBath', 'BedroomAbvGr', 'KitchenAbvGr', 'KitchenQual',\n",
       "       'TotRmsAbvGrd', 'Functional', 'Fireplaces', 'FireplaceQu', 'GarageType',\n",
       "       'GarageYrBlt', 'GarageFinish', 'GarageCars', 'GarageArea', 'GarageQual',\n",
       "       'GarageCond', 'PavedDrive', 'WoodDeckSF', 'OpenPorchSF',\n",
       "       'EnclosedPorch', '3SsnPorch', 'ScreenPorch', 'PoolArea', 'PoolQC',\n",
       "       'Fence', 'MiscFeature', 'MiscVal', 'MoSold', 'YrSold', 'SaleType',\n",
       "       'SaleCondition', 'SalePrice'],\n",
       "      dtype='object')"
      ]
     },
     "execution_count": 39,
     "metadata": {},
     "output_type": "execute_result"
    }
   ],
   "source": [
    "df.columns"
   ]
  },
  {
   "cell_type": "code",
   "execution_count": 3,
   "metadata": {},
   "outputs": [],
   "source": [
    "abt = df.copy()"
   ]
  },
  {
   "cell_type": "code",
   "execution_count": 49,
   "metadata": {},
   "outputs": [],
   "source": [
    "numerical_columns = df.select_dtypes(exclude='object').columns\n",
    "categorical_columns = df.select_dtypes('object').columns"
   ]
  },
  {
   "cell_type": "code",
   "execution_count": 77,
   "metadata": {},
   "outputs": [
    {
     "data": {
      "text/plain": [
       "Index(['Id', 'MSSubClass', 'LotFrontage', 'LotArea', 'OverallQual',\n",
       "       'OverallCond', 'YearBuilt', 'YearRemodAdd', 'MasVnrArea', 'BsmtFinSF1',\n",
       "       'BsmtFinSF2', 'BsmtUnfSF', 'TotalBsmtSF', '1stFlrSF', '2ndFlrSF',\n",
       "       'LowQualFinSF', 'GrLivArea', 'BsmtFullBath', 'BsmtHalfBath', 'FullBath',\n",
       "       'HalfBath', 'BedroomAbvGr', 'KitchenAbvGr', 'TotRmsAbvGrd',\n",
       "       'Fireplaces', 'GarageYrBlt', 'GarageCars', 'GarageArea', 'WoodDeckSF',\n",
       "       'OpenPorchSF', 'EnclosedPorch', '3SsnPorch', 'ScreenPorch', 'PoolArea',\n",
       "       'MiscVal', 'MoSold', 'YrSold', 'SalePrice'],\n",
       "      dtype='object')"
      ]
     },
     "execution_count": 77,
     "metadata": {},
     "output_type": "execute_result"
    }
   ],
   "source": [
    "numerical_columns"
   ]
  },
  {
   "cell_type": "code",
   "execution_count": 83,
   "metadata": {},
   "outputs": [
    {
     "name": "stdout",
     "output_type": "stream",
     "text": [
      "LotFrontage    259\n",
      "MasVnrArea       8\n",
      "GarageYrBlt     81\n",
      "dtype: int64\n"
     ]
    }
   ],
   "source": [
    "missing_data = df[numerical_columns].isnull().sum()\n",
    "columns_with_missing_data = missing_data[missing_data > 0]\n",
    "\n",
    "print(columns_with_missing_data)"
   ]
  },
  {
   "cell_type": "code",
   "execution_count": 84,
   "metadata": {},
   "outputs": [
    {
     "name": "stdout",
     "output_type": "stream",
     "text": [
      "Alley           1369\n",
      "MasVnrType       872\n",
      "BsmtQual          37\n",
      "BsmtCond          37\n",
      "BsmtExposure      38\n",
      "BsmtFinType1      37\n",
      "BsmtFinType2      38\n",
      "Electrical         1\n",
      "FireplaceQu      690\n",
      "GarageType        81\n",
      "GarageFinish      81\n",
      "GarageQual        81\n",
      "GarageCond        81\n",
      "PoolQC          1453\n",
      "Fence           1179\n",
      "MiscFeature     1406\n",
      "dtype: int64\n"
     ]
    }
   ],
   "source": [
    "missing_data = df[categorical_columns].isnull().sum()\n",
    "columns_with_missing_data = missing_data[missing_data > 0]\n",
    "\n",
    "print(columns_with_missing_data)"
   ]
  },
  {
   "cell_type": "markdown",
   "metadata": {},
   "source": [
    "**Define a preprocessing funtion**"
   ]
  },
  {
   "cell_type": "code",
   "execution_count": 7,
   "metadata": {},
   "outputs": [],
   "source": [
    "def preprocessing(df):\n",
    "    # drop those columns with too many missing data\n",
    "    df.drop(['Fence', 'Alley', 'MiscFeature', 'PoolQC', 'MasVnrType','FireplaceQu'], axis = 1, inplace = True)\n",
    "    # filling missing columns (non-numerical)\n",
    "    df['BsmtQual'].fillna('Missing', inplace = True)\n",
    "    df['BsmtCond'].fillna('Missing', inplace = True)\n",
    "    df['BsmtExposure'].fillna('Missing', inplace = True)\n",
    "    df['BsmtFinType1'].fillna('Missing', inplace = True)\n",
    "    df['BsmtFinType2'].fillna('Missing', inplace = True)\n",
    "    df['Electrical'].fillna('Missing', inplace = True)\n",
    "    df['GarageType'].fillna('Missing', inplace = True)\n",
    "    df['GarageFinish'].fillna('Missing', inplace = True)\n",
    "    df['GarageQual'].fillna('Missing', inplace = True)\n",
    "    df['GarageCond'].fillna('Missing', inplace = True)\n",
    "\n",
    "\n",
    "    # filling missing columns (numerical)\n",
    "    df['LotFrontage'].fillna(df['LotFrontage'].mean(), inplace = True)\n",
    "    df['MasVnrArea'].fillna(0, inplace = True)\n",
    "    \n",
    "    # Transforming \n",
    "    df['GarageAge'] = df['GarageYrBlt'].apply(lambda x: 2023.0 - x if not pd.isnull(x) else 0)\n",
    "    df.drop('GarageYrBlt', axis = 1, inplace = True)\n"
   ]
  },
  {
   "cell_type": "code",
   "execution_count": 8,
   "metadata": {},
   "outputs": [],
   "source": [
    "preprocessing(abt)"
   ]
  },
  {
   "cell_type": "code",
   "execution_count": 9,
   "metadata": {},
   "outputs": [
    {
     "name": "stdout",
     "output_type": "stream",
     "text": [
      "<class 'pandas.core.frame.DataFrame'>\n",
      "RangeIndex: 1460 entries, 0 to 1459\n",
      "Data columns (total 75 columns):\n",
      " #   Column         Non-Null Count  Dtype  \n",
      "---  ------         --------------  -----  \n",
      " 0   Id             1460 non-null   int64  \n",
      " 1   MSSubClass     1460 non-null   int64  \n",
      " 2   MSZoning       1460 non-null   object \n",
      " 3   LotFrontage    1460 non-null   float64\n",
      " 4   LotArea        1460 non-null   int64  \n",
      " 5   Street         1460 non-null   object \n",
      " 6   LotShape       1460 non-null   object \n",
      " 7   LandContour    1460 non-null   object \n",
      " 8   Utilities      1460 non-null   object \n",
      " 9   LotConfig      1460 non-null   object \n",
      " 10  LandSlope      1460 non-null   object \n",
      " 11  Neighborhood   1460 non-null   object \n",
      " 12  Condition1     1460 non-null   object \n",
      " 13  Condition2     1460 non-null   object \n",
      " 14  BldgType       1460 non-null   object \n",
      " 15  HouseStyle     1460 non-null   object \n",
      " 16  OverallQual    1460 non-null   int64  \n",
      " 17  OverallCond    1460 non-null   int64  \n",
      " 18  YearBuilt      1460 non-null   int64  \n",
      " 19  YearRemodAdd   1460 non-null   int64  \n",
      " 20  RoofStyle      1460 non-null   object \n",
      " 21  RoofMatl       1460 non-null   object \n",
      " 22  Exterior1st    1460 non-null   object \n",
      " 23  Exterior2nd    1460 non-null   object \n",
      " 24  MasVnrArea     1460 non-null   float64\n",
      " 25  ExterQual      1460 non-null   object \n",
      " 26  ExterCond      1460 non-null   object \n",
      " 27  Foundation     1460 non-null   object \n",
      " 28  BsmtQual       1460 non-null   object \n",
      " 29  BsmtCond       1460 non-null   object \n",
      " 30  BsmtExposure   1460 non-null   object \n",
      " 31  BsmtFinType1   1460 non-null   object \n",
      " 32  BsmtFinSF1     1460 non-null   int64  \n",
      " 33  BsmtFinType2   1460 non-null   object \n",
      " 34  BsmtFinSF2     1460 non-null   int64  \n",
      " 35  BsmtUnfSF      1460 non-null   int64  \n",
      " 36  TotalBsmtSF    1460 non-null   int64  \n",
      " 37  Heating        1460 non-null   object \n",
      " 38  HeatingQC      1460 non-null   object \n",
      " 39  CentralAir     1460 non-null   object \n",
      " 40  Electrical     1460 non-null   object \n",
      " 41  1stFlrSF       1460 non-null   int64  \n",
      " 42  2ndFlrSF       1460 non-null   int64  \n",
      " 43  LowQualFinSF   1460 non-null   int64  \n",
      " 44  GrLivArea      1460 non-null   int64  \n",
      " 45  BsmtFullBath   1460 non-null   int64  \n",
      " 46  BsmtHalfBath   1460 non-null   int64  \n",
      " 47  FullBath       1460 non-null   int64  \n",
      " 48  HalfBath       1460 non-null   int64  \n",
      " 49  BedroomAbvGr   1460 non-null   int64  \n",
      " 50  KitchenAbvGr   1460 non-null   int64  \n",
      " 51  KitchenQual    1460 non-null   object \n",
      " 52  TotRmsAbvGrd   1460 non-null   int64  \n",
      " 53  Functional     1460 non-null   object \n",
      " 54  Fireplaces     1460 non-null   int64  \n",
      " 55  GarageType     1460 non-null   object \n",
      " 56  GarageFinish   1460 non-null   object \n",
      " 57  GarageCars     1460 non-null   int64  \n",
      " 58  GarageArea     1460 non-null   int64  \n",
      " 59  GarageQual     1460 non-null   object \n",
      " 60  GarageCond     1460 non-null   object \n",
      " 61  PavedDrive     1460 non-null   object \n",
      " 62  WoodDeckSF     1460 non-null   int64  \n",
      " 63  OpenPorchSF    1460 non-null   int64  \n",
      " 64  EnclosedPorch  1460 non-null   int64  \n",
      " 65  3SsnPorch      1460 non-null   int64  \n",
      " 66  ScreenPorch    1460 non-null   int64  \n",
      " 67  PoolArea       1460 non-null   int64  \n",
      " 68  MiscVal        1460 non-null   int64  \n",
      " 69  MoSold         1460 non-null   int64  \n",
      " 70  YrSold         1460 non-null   int64  \n",
      " 71  SaleType       1460 non-null   object \n",
      " 72  SaleCondition  1460 non-null   object \n",
      " 73  SalePrice      1460 non-null   int64  \n",
      " 74  GarageAge      1460 non-null   float64\n",
      "dtypes: float64(3), int64(35), object(37)\n",
      "memory usage: 855.6+ KB\n"
     ]
    }
   ],
   "source": [
    "abt.info()"
   ]
  },
  {
   "cell_type": "code",
   "execution_count": 10,
   "metadata": {},
   "outputs": [
    {
     "data": {
      "text/plain": [
       "Series([], dtype: int64)"
      ]
     },
     "execution_count": 10,
     "metadata": {},
     "output_type": "execute_result"
    }
   ],
   "source": [
    "missing_values = abt.isnull().sum()\n",
    "missing_data = missing_values[missing_values > 0].sort_values()\n",
    "missing_data"
   ]
  },
  {
   "cell_type": "markdown",
   "metadata": {},
   "source": [
    "**Model**"
   ]
  },
  {
   "cell_type": "code",
   "execution_count": 10,
   "metadata": {},
   "outputs": [],
   "source": [
    "from sklearn.model_selection import train_test_split\n",
    "from sklearn.pipeline import make_pipeline\n",
    "from sklearn.preprocessing import StandardScaler"
   ]
  },
  {
   "cell_type": "code",
   "execution_count": 11,
   "metadata": {},
   "outputs": [],
   "source": [
    "# creating features columns\n",
    "X = abt.drop(['Id', 'SalePrice'], axis = 1)\n",
    "# one hot encode\n",
    "X = pd.get_dummies(X)\n",
    "# creating target columns\n",
    "y = abt['SalePrice']"
   ]
  },
  {
   "cell_type": "code",
   "execution_count": 12,
   "metadata": {},
   "outputs": [],
   "source": [
    "X_train, X_test, y_train, y_test = train_test_split(X, y, test_size=0.3, random_state=123)\n"
   ]
  },
  {
   "cell_type": "code",
   "execution_count": 13,
   "metadata": {},
   "outputs": [
    {
     "data": {
      "text/plain": [
       "((1022, 276), (438, 276), (1022,), (438,))"
      ]
     },
     "execution_count": 13,
     "metadata": {},
     "output_type": "execute_result"
    }
   ],
   "source": [
    "X_train.shape, X_test.shape, y_train.shape, y_test.shape"
   ]
  },
  {
   "cell_type": "markdown",
   "metadata": {},
   "source": [
    "**Set up ML pipeline**"
   ]
  },
  {
   "cell_type": "code",
   "execution_count": 14,
   "metadata": {},
   "outputs": [],
   "source": [
    "from sklearn.ensemble import GradientBoostingRegressor, RandomForestRegressor\n",
    "from sklearn.model_selection import GridSearchCV"
   ]
  },
  {
   "cell_type": "code",
   "execution_count": 15,
   "metadata": {},
   "outputs": [],
   "source": [
    "pipelines = {\n",
    "    \n",
    "    'rf': make_pipeline(StandardScaler(), RandomForestRegressor(random_state=1234)),\n",
    "    'gb': make_pipeline(StandardScaler(), GradientBoostingRegressor(random_state=1234))\n",
    "   \n",
    "\n",
    "}"
   ]
  },
  {
   "cell_type": "code",
   "execution_count": null,
   "metadata": {},
   "outputs": [],
   "source": []
  },
  {
   "cell_type": "code",
   "execution_count": 17,
   "metadata": {},
   "outputs": [],
   "source": [
    "grid = {\n",
    "    'rf': {\n",
    "        'randomforestregressor__n_estimators':[100, 200, 300]\n",
    "\n",
    "    },\n",
    "    'gb': {\n",
    "        'gradientboostingregressor__n_estimators':[100, 200, 300]\n",
    "    }\n",
    "}\n"
   ]
  },
  {
   "cell_type": "code",
   "execution_count": 18,
   "metadata": {},
   "outputs": [
    {
     "name": "stdout",
     "output_type": "stream",
     "text": [
      "Training the rf model\n",
      "Training the gb model\n"
     ]
    }
   ],
   "source": [
    "fit_models = {}\n",
    "# loop through all the algos\n",
    "for algo, pipeline in pipelines.items():\n",
    "  print(f'Training the {algo} model')\n",
    "  # Create new Grid Search CV class\n",
    "  model = GridSearchCV(pipeline, grid[algo], n_jobs = -1, cv=10)\n",
    "  # train the model\n",
    "  model.fit(X_train, y_train)\n",
    "  # store it in our dictionary\n",
    "  fit_models[algo] = model"
   ]
  },
  {
   "cell_type": "code",
   "execution_count": 19,
   "metadata": {},
   "outputs": [
    {
     "data": {
      "text/plain": [
       "{'rf': GridSearchCV(cv=10,\n",
       "              estimator=Pipeline(steps=[('standardscaler', StandardScaler()),\n",
       "                                        ('randomforestregressor',\n",
       "                                         RandomForestRegressor(random_state=1234))]),\n",
       "              n_jobs=-1,\n",
       "              param_grid={'randomforestregressor__n_estimators': [100, 200,\n",
       "                                                                  300]}),\n",
       " 'gb': GridSearchCV(cv=10,\n",
       "              estimator=Pipeline(steps=[('standardscaler', StandardScaler()),\n",
       "                                        ('gradientboostingregressor',\n",
       "                                         GradientBoostingRegressor(random_state=1234))]),\n",
       "              n_jobs=-1,\n",
       "              param_grid={'gradientboostingregressor__n_estimators': [100, 200,\n",
       "                                                                      300]})}"
      ]
     },
     "execution_count": 19,
     "metadata": {},
     "output_type": "execute_result"
    }
   ],
   "source": [
    "fit_models"
   ]
  },
  {
   "cell_type": "code",
   "execution_count": 20,
   "metadata": {},
   "outputs": [],
   "source": [
    "from sklearn.metrics import mean_absolute_error, mean_squared_error, r2_score\n"
   ]
  },
  {
   "cell_type": "code",
   "execution_count": 21,
   "metadata": {},
   "outputs": [
    {
     "name": "stdout",
     "output_type": "stream",
     "text": [
      "rf\n",
      "MAE: 16461.55401826484\n",
      "MSE: 675111622.9152334\n",
      "RMSE: 25982.91020873592\n",
      "R2: 0.8823530909900725\n",
      "gb\n",
      "MAE: 15202.421530445967\n",
      "MSE: 594940493.4865786\n",
      "RMSE: 24391.40204019807\n",
      "R2: 0.8963239444741049\n"
     ]
    }
   ],
   "source": [
    "for algo, model in fit_models.items():\n",
    "    yhat = model.predict(X_test)\n",
    "    mae = mean_absolute_error(y_test, yhat)\n",
    "    mse = mean_squared_error(y_test, yhat)\n",
    "    rmse = mean_squared_error(y_test, yhat, squared=False)\n",
    "    r2 = r2_score(y_test, yhat)\n",
    "\n",
    "    print(algo)\n",
    "    print(f\"MAE: {mae}\")\n",
    "    print(f\"MSE: {mse}\")\n",
    "    print(f\"RMSE: {rmse}\")\n",
    "    print(f\"R2: {r2}\")"
   ]
  },
  {
   "cell_type": "markdown",
   "metadata": {},
   "source": [
    "**Save Model**"
   ]
  },
  {
   "cell_type": "code",
   "execution_count": 22,
   "metadata": {},
   "outputs": [],
   "source": [
    "import pickle"
   ]
  },
  {
   "cell_type": "code",
   "execution_count": 23,
   "metadata": {},
   "outputs": [],
   "source": [
    "with open('gb.pkl','wb') as f:\n",
    "    pickle.dump(fit_models['gb'], f)"
   ]
  },
  {
   "cell_type": "code",
   "execution_count": 24,
   "metadata": {},
   "outputs": [],
   "source": [
    "with open('gb.pkl', 'rb') as f:\n",
    "    reload_model = pickle.load(f)"
   ]
  },
  {
   "cell_type": "markdown",
   "metadata": {},
   "source": [
    "**Test Data and make submission**"
   ]
  },
  {
   "cell_type": "code",
   "execution_count": 25,
   "metadata": {},
   "outputs": [],
   "source": [
    "test_df = pd.read_csv('test.csv')"
   ]
  },
  {
   "cell_type": "code",
   "execution_count": 26,
   "metadata": {},
   "outputs": [],
   "source": [
    "abt_test = test_df.copy()"
   ]
  },
  {
   "cell_type": "code",
   "execution_count": 27,
   "metadata": {},
   "outputs": [],
   "source": [
    "preprocessing(abt_test)"
   ]
  },
  {
   "cell_type": "code",
   "execution_count": 28,
   "metadata": {},
   "outputs": [],
   "source": [
    "# One hot encode\n",
    "abt_test = pd.get_dummies(abt_test.drop('Id', axis = 1))"
   ]
  },
  {
   "cell_type": "code",
   "execution_count": 29,
   "metadata": {},
   "outputs": [
    {
     "data": {
      "text/plain": [
       "(1459, 259)"
      ]
     },
     "execution_count": 29,
     "metadata": {},
     "output_type": "execute_result"
    }
   ],
   "source": [
    "abt_test.shape"
   ]
  },
  {
   "cell_type": "code",
   "execution_count": 30,
   "metadata": {},
   "outputs": [],
   "source": [
    "for col in X_train.columns:\n",
    "    if col not in abt_test.columns:\n",
    "        abt_test[col] = 0\n"
   ]
  },
  {
   "cell_type": "code",
   "execution_count": 31,
   "metadata": {},
   "outputs": [],
   "source": [
    "abt_test = abt_test[X_train.columns]\n"
   ]
  },
  {
   "cell_type": "code",
   "execution_count": 32,
   "metadata": {},
   "outputs": [
    {
     "data": {
      "text/plain": [
       "BsmtFinSF1      1\n",
       "BsmtFinSF2      1\n",
       "BsmtUnfSF       1\n",
       "TotalBsmtSF     1\n",
       "GarageCars      1\n",
       "GarageArea      1\n",
       "BsmtFullBath    2\n",
       "BsmtHalfBath    2\n",
       "dtype: int64"
      ]
     },
     "execution_count": 32,
     "metadata": {},
     "output_type": "execute_result"
    }
   ],
   "source": [
    "missing_values = abt_test.isnull().sum()\n",
    "missing_data = missing_values[missing_values > 0].sort_values()\n",
    "missing_data"
   ]
  },
  {
   "cell_type": "code",
   "execution_count": 33,
   "metadata": {},
   "outputs": [],
   "source": [
    "columns_to_fill = missing_data.index\n",
    "abt_test[columns_to_fill] = abt_test[columns_to_fill].fillna(0)"
   ]
  },
  {
   "cell_type": "code",
   "execution_count": 35,
   "metadata": {},
   "outputs": [
    {
     "data": {
      "text/plain": [
       "Series([], dtype: int64)"
      ]
     },
     "execution_count": 35,
     "metadata": {},
     "output_type": "execute_result"
    }
   ],
   "source": [
    "missing_values = abt_test.isnull().sum()\n",
    "missing_data = missing_values[missing_values > 0].sort_values()\n",
    "missing_data"
   ]
  },
  {
   "cell_type": "code",
   "execution_count": 37,
   "metadata": {},
   "outputs": [
    {
     "data": {
      "text/plain": [
       "array([232363.08741234,  92672.97221549, 144698.48831952, 254592.48274626,\n",
       "       138546.56118634, 219687.74865518, 332890.44007207, 123888.53139099,\n",
       "       145344.92669809, 120386.91199644, 150484.662232  , 219828.16919304,\n",
       "       139707.61392918, 105236.16486744, 257398.48404934, 191872.17447616,\n",
       "       142484.73902003, 364090.85460085, 221783.1482415 , 187505.33125428,\n",
       "       153390.19844792, 182361.27524494, 111536.87440254, 141184.06034031,\n",
       "       213620.38213185, 150955.51206934, 216809.54344558, 187963.35621437,\n",
       "       123403.72769693, 132794.10028725, 141503.9146153 , 215631.1089411 ,\n",
       "       143152.45294837, 192747.2453021 , 359202.82910089, 199771.2142037 ,\n",
       "       164324.90568778, 348139.55510554, 169481.76573367,  90439.1132724 ,\n",
       "       144831.59348644, 195460.16744361, 207905.78434358, 169331.7300005 ,\n",
       "       199518.27113726, 119737.63238991, 287435.69563755, 221621.52364467,\n",
       "       243305.96547121, 119723.65146227, 212197.68089347, 184187.43981552,\n",
       "       146271.43327975, 157027.8079407 , 110289.886621  , 165444.29657065,\n",
       "       137415.22925651, 162519.61254309, 227940.55105833, 406693.03066549,\n",
       "       108668.5455225 , 388215.49109337, 129356.27638188, 171108.74698599,\n",
       "       212860.14120577, 128018.05525827, 122255.02538491, 214543.91293224,\n",
       "       251678.05030725, 139327.67323802, 143266.82064913, 191762.1271882 ,\n",
       "       158102.96618253, 241704.20806332, 156497.33121861, 125554.93274025,\n",
       "       184030.83604963, 135036.07802979, 221086.78012238, 156426.55888507,\n",
       "       351948.74587055, 280154.76544425,  85394.9867321 , 128991.34301337,\n",
       "       160884.36397547, 143106.61722927,  95898.03419761, 106970.98017804,\n",
       "        58744.95563539, 291735.96741825, 125794.78574117, 174614.5407078 ,\n",
       "       176553.89366941, 167958.47088156, 136338.23804619, 129439.77788353,\n",
       "       230125.23594117,  97852.08302518, 229985.9466103 , 134526.5273555 ,\n",
       "       130792.53835677, 435320.93195815, 370139.46849121, 158119.77285423,\n",
       "       194390.03579085, 113742.75480354, 134023.79616228, 212980.03108384,\n",
       "       170758.19324221, 311639.55255365, 295290.18114013, 227144.38924118,\n",
       "       107437.08760859, 259039.27861486, 167487.73059376, 131804.65045221,\n",
       "       170373.7682975 , 403870.21406762, 110619.36768189, 150484.34900473,\n",
       "       174207.80696478, 211330.96349922, 197461.02714316, 121583.03452121,\n",
       "       259472.64570181, 254285.88080293, 124431.16301702, 119333.61885089,\n",
       "       173662.25567129, 291190.00542172,  83664.5061069 , 334956.02638665,\n",
       "       268424.15955855, 185997.58728813, 218373.2937474 , 178956.54057709,\n",
       "       322417.06713904, 110699.21564057, 178597.09382912, 138278.47419107,\n",
       "        99935.29121584, 226932.50267097, 244118.98556394, 149705.13992839,\n",
       "       208234.24740963, 245867.63707376, 207189.53268113, 174957.85750504,\n",
       "       188841.41667371, 127751.92113509, 190479.09842321, 104255.77688065,\n",
       "       397948.95411504, 168167.10722288, 290944.85811896, 154958.66434495,\n",
       "       246977.80132855, 126877.08745196, 127538.54811163, 139436.80729332,\n",
       "       672249.47631497, 210089.61800768, 223703.54852104, 135533.8926607 ,\n",
       "       235420.4213    ,  83361.41518567, 142264.36985395, 121216.89808542,\n",
       "       166513.41670445, 110589.70148735, 139864.30865626, 125994.64731253,\n",
       "       233635.46575171, 213343.28859799, 136286.19989717, 277840.80110007,\n",
       "       171607.8494348 , 121937.61117519, 203869.93890197, 216167.95654942,\n",
       "       174054.53660592, 130718.30533795, 135039.9772955 , 143058.96210881,\n",
       "       163455.13518999, 132798.5721034 , 118061.7772645 , 195014.1007412 ,\n",
       "       178095.62203704, 166466.00734625, 131057.96832821, 141978.03752771,\n",
       "       197873.01040191, 222130.70852693, 121080.99316282, 265073.63773633,\n",
       "       144342.55730775, 124363.09466739, 181885.147102  , 113812.20119201,\n",
       "       187232.38530809, 335045.60098198, 172287.30451653, 367095.6177073 ,\n",
       "       177043.55492388, 132582.4055193 , 117149.38761818, 329305.0947404 ,\n",
       "       147772.30333527, 218028.10497832, 163362.24329768, 404316.13255993,\n",
       "       129917.33867296, 149096.12154282, 152516.68111731, 205343.35574763,\n",
       "       199721.86225805, 137214.31286484, 130794.14375766, 108333.91817698,\n",
       "       181316.31225353,  69979.9364853 , 142770.0061437 , 111103.36452256,\n",
       "       120877.23915455, 104934.70988932, 185191.0404804 ,  87045.26502122,\n",
       "       135124.09307794, 121043.6254822 ,  96311.07232913, 142367.9939255 ,\n",
       "       164453.37655126, 130148.44022513, 120784.13216392, 163715.52836983,\n",
       "       185391.54076493, 122066.82474801, 183953.3349152 ,  99167.3904994 ,\n",
       "       239315.98850777, 252676.36810505, 195779.62297528, 200277.43843552,\n",
       "       121795.60917971, 250291.21451802, 124799.68505451, 295064.8907756 ,\n",
       "       126587.90386352, 259911.26267203, 207747.17090237, 123900.32553177,\n",
       "       205943.87928316, 103749.49494111, 170551.48537886, 210223.20161632,\n",
       "       286940.00361313, 199653.19408887, 152863.52953823, 123554.67964328,\n",
       "       204840.83391247, 194856.6404412 , 166685.73514751, 195306.84825215,\n",
       "       168923.95427275, 148509.72555644, 155400.64553381, 198511.57254118,\n",
       "        64414.34021439, 109054.01235243, 137577.29555732,  83028.16583884,\n",
       "       206204.26127364,  95328.67060135, 279640.5434993 , 172751.69307599,\n",
       "       185978.23658683, 231235.40241342, 143606.69443568, 113709.04444023,\n",
       "       136677.37555417, 149009.25870847,  99801.91680805, 140476.9317203 ,\n",
       "       176194.6827099 , 120548.68288454, 165950.78535938, 163229.51280717,\n",
       "       195995.86962347, 119259.94435173, 169481.59037687,  82448.92940128,\n",
       "       320325.99051283, 169481.88008208, 260038.86364615, 118871.71776744,\n",
       "       158503.99099791, 239630.31289507, 140996.73502408, 137162.71545969,\n",
       "       391494.57162785, 135299.55633619, 251525.2564739 , 278167.67994376,\n",
       "       316777.69094153, 173939.22307156, 303179.93510601, 212191.08647154,\n",
       "       139140.37820355, 113688.43306276, 152360.72313936, 175165.02231192,\n",
       "       123523.59554983, 279734.90507156, 145292.80787625, 238078.89798517,\n",
       "       269273.79387795, 122088.24695107, 140344.40287747, 160899.4104079 ,\n",
       "       297216.1217784 , 198274.37912539, 167817.42640097, 191777.95610267,\n",
       "       234460.89575404, 110297.01125117, 129789.76007791, 136406.66937616,\n",
       "       213112.70185871, 207306.38182437, 151666.39859518, 170224.22018667,\n",
       "       165791.69609081, 251428.21845088,  81931.38055397, 280389.92337959,\n",
       "       239756.36975909, 262866.42167505, 128485.52746807, 140119.97113714,\n",
       "       114079.00684676, 420452.28467756, 222568.66646657, 158211.76585195,\n",
       "       283813.74151391, 118856.32846852, 129188.61361951, 146001.12539722,\n",
       "       147228.03878225, 132510.17615557, 169326.25424643, 178877.13726794,\n",
       "       262173.93729202, 182038.28765478, 263105.33016137, 145779.20605702,\n",
       "       169496.62071554, 171040.08625834, 147440.08382527, 133302.66615019,\n",
       "        64178.84995237, 180801.46875918, 161474.0290428 , 190035.83144674,\n",
       "       135338.08273208, 144646.34434632, 107163.83833469, 179878.49652958,\n",
       "       150584.58179803, 217726.60929821, 238121.29478648, 156398.82527502,\n",
       "        97981.04283658, 110508.0333684 , 139400.4464966 , 218232.49790443,\n",
       "       126269.91293263, 165592.0181722 , 211412.60619826, 193395.33924713,\n",
       "       166939.3600168 , 170620.8193275 , 186719.48959159,  74701.7395509 ,\n",
       "       164202.42475235, 127919.59533521, 243420.58514748, 116784.24426425,\n",
       "       150392.1909241 , 111441.81805866, 195483.87826393, 103799.98632626,\n",
       "        71114.57759699, 168167.5647615 , 195151.13187064, 171297.75593948,\n",
       "       214423.86651794, 273297.82303356, 306868.53052485, 133583.50125144,\n",
       "       159216.59669797, 242595.86671524, 219331.11380362, 154983.81036946,\n",
       "       169609.95573671, 121055.79946413, 222899.49205002, 321849.92788425,\n",
       "       366815.99984549, 180558.50370191, 165605.85825185, 233964.25318627,\n",
       "       150176.20338481,  90737.67029634, 302080.52147092, 192506.27278298,\n",
       "       124634.1773738 , 131756.99173993, 128270.49257799, 134808.51334439,\n",
       "       171551.79163656, 227435.43530603,  81252.72487496, 177547.47774521,\n",
       "       183356.71091088, 222963.84462373, 230107.07363733, 365574.83059456,\n",
       "       155336.41537906, 119156.9647895 , 269734.81400063, 225755.09324363,\n",
       "       177861.03919524, 135651.44433552, 114924.69856452, 115661.28781092,\n",
       "       264614.10679902, 244526.82533034])"
      ]
     },
     "execution_count": 37,
     "metadata": {},
     "output_type": "execute_result"
    }
   ],
   "source": [
    "yhat_test = fit_models['gb'].predict(abt_test)\n",
    "yhat"
   ]
  },
  {
   "cell_type": "code",
   "execution_count": 38,
   "metadata": {},
   "outputs": [],
   "source": [
    "submission = pd.DataFrame([test_df['Id'],yhat_test]).T"
   ]
  },
  {
   "cell_type": "code",
   "execution_count": 39,
   "metadata": {},
   "outputs": [],
   "source": [
    "submission.columns = ['Id', 'SalePrice']"
   ]
  },
  {
   "cell_type": "code",
   "execution_count": 42,
   "metadata": {},
   "outputs": [],
   "source": [
    "submission['Id'] =submission['Id'].astype('float').astype('Int32')"
   ]
  },
  {
   "cell_type": "code",
   "execution_count": 43,
   "metadata": {},
   "outputs": [],
   "source": [
    "submission.to_csv('kaggle_submission.csv', index=False)"
   ]
  },
  {
   "cell_type": "code",
   "execution_count": 44,
   "metadata": {},
   "outputs": [
    {
     "name": "stdout",
     "output_type": "stream",
     "text": [
      "Successfully submitted to House Prices - Advanced Regression Techniques\n"
     ]
    },
    {
     "name": "stderr",
     "output_type": "stream",
     "text": [
      "\n",
      "  0%|          | 0.00/35.1k [00:00<?, ?B/s]\n",
      " 46%|████▌     | 16.0k/35.1k [00:00<00:00, 22.4kB/s]\n",
      "100%|██████████| 35.1k/35.1k [00:02<00:00, 13.3kB/s]\n"
     ]
    }
   ],
   "source": [
    "!kaggle competitions submit -c house-prices-advanced-regression-techniques -m \"initial gb model\" -f \"kaggle_submission.csv\""
   ]
  }
 ],
 "metadata": {
  "kernelspec": {
   "display_name": "Python 3",
   "language": "python",
   "name": "python3"
  },
  "language_info": {
   "codemirror_mode": {
    "name": "ipython",
    "version": 3
   },
   "file_extension": ".py",
   "mimetype": "text/x-python",
   "name": "python",
   "nbconvert_exporter": "python",
   "pygments_lexer": "ipython3",
   "version": "3.11.6"
  }
 },
 "nbformat": 4,
 "nbformat_minor": 2
}
